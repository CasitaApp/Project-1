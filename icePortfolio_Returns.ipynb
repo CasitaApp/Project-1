{
 "cells": [
  {
   "cell_type": "code",
   "execution_count": 64,
   "id": "16f07972-ffde-4c4d-a4df-20532dc76de2",
   "metadata": {},
   "outputs": [],
   "source": [
    "import os\n",
    "import requests\n",
    "import pandas as pd\n",
    "import hvplot.pandas\n",
    "from dotenv import load_dotenv\n",
    "import alpaca_trade_api as tradeapi\n",
    "\n",
    "%matplotlib inline"
   ]
  },
  {
   "cell_type": "code",
   "execution_count": 65,
   "id": "400d14b2-0e05-4889-8253-1b64e823b2ef",
   "metadata": {},
   "outputs": [
    {
     "data": {
      "text/html": [
       "<div>\n",
       "<style scoped>\n",
       "    .dataframe tbody tr th:only-of-type {\n",
       "        vertical-align: middle;\n",
       "    }\n",
       "\n",
       "    .dataframe tbody tr th {\n",
       "        vertical-align: top;\n",
       "    }\n",
       "\n",
       "    .dataframe thead th {\n",
       "        text-align: right;\n",
       "    }\n",
       "</style>\n",
       "<table border=\"1\" class=\"dataframe\">\n",
       "  <thead>\n",
       "    <tr style=\"text-align: right;\">\n",
       "      <th></th>\n",
       "      <th>shares</th>\n",
       "    </tr>\n",
       "  </thead>\n",
       "  <tbody>\n",
       "    <tr>\n",
       "      <th>TM</th>\n",
       "      <td>25</td>\n",
       "    </tr>\n",
       "    <tr>\n",
       "      <th>FCAU</th>\n",
       "      <td>25</td>\n",
       "    </tr>\n",
       "    <tr>\n",
       "      <th>GM</th>\n",
       "      <td>25</td>\n",
       "    </tr>\n",
       "    <tr>\n",
       "      <th>F</th>\n",
       "      <td>25</td>\n",
       "    </tr>\n",
       "  </tbody>\n",
       "</table>\n",
       "</div>"
      ],
      "text/plain": [
       "      shares\n",
       "TM        25\n",
       "FCAU      25\n",
       "GM        25\n",
       "F         25"
      ]
     },
     "execution_count": 65,
     "metadata": {},
     "output_type": "execute_result"
    }
   ],
   "source": [
    "# Set current amount of shares data\n",
    "shares_data = {\n",
    "    \"shares\": [25, 25, 25, 25]}\n",
    "\n",
    "# Set the tickers\n",
    "tickers = [\"TM\", \"FCAU\", \"GM\", \"F\"]\n",
    "\n",
    "# Create the shares DataFrame\n",
    "df_shares = pd.DataFrame(shares_data, index=tickers)\n",
    "\n",
    "# Display shares data\n",
    "df_shares"
   ]
  },
  {
   "cell_type": "code",
   "execution_count": 66,
   "id": "e6b36936-7bff-4783-8f1d-c5c96e7836eb",
   "metadata": {},
   "outputs": [
    {
     "data": {
      "text/plain": [
       "True"
      ]
     },
     "execution_count": 66,
     "metadata": {},
     "output_type": "execute_result"
    }
   ],
   "source": [
    "load_dotenv(\"env.txt\")"
   ]
  },
  {
   "cell_type": "code",
   "execution_count": 67,
   "id": "e7e630d2-ac84-4994-a765-d8321a88cf49",
   "metadata": {},
   "outputs": [
    {
     "name": "stdout",
     "output_type": "stream",
     "text": [
      "Alpaca Key type: <class 'str'>\n",
      "Alpaca Secret Key type: <class 'str'>\n"
     ]
    }
   ],
   "source": [
    "alpaca_api_key = os.getenv(\"ALPACA_API_KEY\")\n",
    "alpaca_secret_key = os.getenv(\"ALPACA_SECRET_KEY\")\n",
    "print(f\"Alpaca Key type: {type(alpaca_api_key)}\")\n",
    "print(f\"Alpaca Secret Key type: {type(alpaca_secret_key)}\")"
   ]
  },
  {
   "cell_type": "code",
   "execution_count": 68,
   "id": "34b357cb-4004-4a0d-9a2a-ceae396cf0f1",
   "metadata": {},
   "outputs": [],
   "source": [
    "alpaca = tradeapi.REST(\n",
    "    alpaca_api_key,\n",
    "    alpaca_secret_key,\n",
    "    api_version=\"v2\")"
   ]
  },
  {
   "cell_type": "code",
   "execution_count": 69,
   "id": "3666fe16-179b-4049-8367-f6ae727476d7",
   "metadata": {},
   "outputs": [],
   "source": [
    "today = pd.Timestamp(\"2020-07-14\", tz=\"America/New_York\").isoformat()\n",
    "timeframe = \"1Day\""
   ]
  },
  {
   "cell_type": "code",
   "execution_count": 70,
   "id": "618fd9fd-04c9-4ec8-8e01-dcb63943264b",
   "metadata": {},
   "outputs": [],
   "source": [
    "df_portfolio = alpaca.get_bars(\n",
    "    tickers,\n",
    "    timeframe,\n",
    "    start = today,\n",
    "    end = today\n",
    ").df"
   ]
  },
  {
   "cell_type": "code",
   "execution_count": 71,
   "id": "3492c4cd-79ba-459c-97a7-b2bb1909f6b1",
   "metadata": {},
   "outputs": [],
   "source": [
    "TM = df_portfolio[df_portfolio['symbol']=='TM'].drop('symbol', axis=1)\n",
    "FCAU = df_portfolio[df_portfolio['symbol']=='FCAU'].drop('symbol', axis=1)\n",
    "GM = df_portfolio[df_portfolio['symbol']=='GM'].drop('symbol', axis=1)\n",
    "F = df_portfolio[df_portfolio['symbol']=='F'].drop('symbol', axis=1)"
   ]
  },
  {
   "cell_type": "code",
   "execution_count": 72,
   "id": "141c37f7-83ea-4395-b7d9-2c5c7cdce31d",
   "metadata": {},
   "outputs": [
    {
     "data": {
      "text/html": [
       "<div>\n",
       "<style scoped>\n",
       "    .dataframe tbody tr th:only-of-type {\n",
       "        vertical-align: middle;\n",
       "    }\n",
       "\n",
       "    .dataframe tbody tr th {\n",
       "        vertical-align: top;\n",
       "    }\n",
       "\n",
       "    .dataframe thead tr th {\n",
       "        text-align: left;\n",
       "    }\n",
       "\n",
       "    .dataframe thead tr:last-of-type th {\n",
       "        text-align: right;\n",
       "    }\n",
       "</style>\n",
       "<table border=\"1\" class=\"dataframe\">\n",
       "  <thead>\n",
       "    <tr>\n",
       "      <th></th>\n",
       "      <th colspan=\"7\" halign=\"left\">TM</th>\n",
       "      <th colspan=\"3\" halign=\"left\">FCAU</th>\n",
       "      <th>...</th>\n",
       "      <th colspan=\"3\" halign=\"left\">GM</th>\n",
       "      <th colspan=\"7\" halign=\"left\">F</th>\n",
       "    </tr>\n",
       "    <tr>\n",
       "      <th></th>\n",
       "      <th>open</th>\n",
       "      <th>high</th>\n",
       "      <th>low</th>\n",
       "      <th>close</th>\n",
       "      <th>volume</th>\n",
       "      <th>trade_count</th>\n",
       "      <th>vwap</th>\n",
       "      <th>open</th>\n",
       "      <th>high</th>\n",
       "      <th>low</th>\n",
       "      <th>...</th>\n",
       "      <th>volume</th>\n",
       "      <th>trade_count</th>\n",
       "      <th>vwap</th>\n",
       "      <th>open</th>\n",
       "      <th>high</th>\n",
       "      <th>low</th>\n",
       "      <th>close</th>\n",
       "      <th>volume</th>\n",
       "      <th>trade_count</th>\n",
       "      <th>vwap</th>\n",
       "    </tr>\n",
       "    <tr>\n",
       "      <th>timestamp</th>\n",
       "      <th></th>\n",
       "      <th></th>\n",
       "      <th></th>\n",
       "      <th></th>\n",
       "      <th></th>\n",
       "      <th></th>\n",
       "      <th></th>\n",
       "      <th></th>\n",
       "      <th></th>\n",
       "      <th></th>\n",
       "      <th></th>\n",
       "      <th></th>\n",
       "      <th></th>\n",
       "      <th></th>\n",
       "      <th></th>\n",
       "      <th></th>\n",
       "      <th></th>\n",
       "      <th></th>\n",
       "      <th></th>\n",
       "      <th></th>\n",
       "      <th></th>\n",
       "    </tr>\n",
       "  </thead>\n",
       "  <tbody>\n",
       "    <tr>\n",
       "      <th>2020-07-14 04:00:00+00:00</th>\n",
       "      <td>125.15</td>\n",
       "      <td>126.63</td>\n",
       "      <td>125.15</td>\n",
       "      <td>126.43</td>\n",
       "      <td>191895</td>\n",
       "      <td>3525</td>\n",
       "      <td>125.953315</td>\n",
       "      <td>10.06</td>\n",
       "      <td>10.3</td>\n",
       "      <td>10.05</td>\n",
       "      <td>...</td>\n",
       "      <td>16477078</td>\n",
       "      <td>100763</td>\n",
       "      <td>25.429475</td>\n",
       "      <td>6.18</td>\n",
       "      <td>6.39</td>\n",
       "      <td>6.08</td>\n",
       "      <td>6.36</td>\n",
       "      <td>106131848</td>\n",
       "      <td>168357</td>\n",
       "      <td>6.278597</td>\n",
       "    </tr>\n",
       "  </tbody>\n",
       "</table>\n",
       "<p>1 rows × 28 columns</p>\n",
       "</div>"
      ],
      "text/plain": [
       "                               TM                                              \\\n",
       "                             open    high     low   close  volume trade_count   \n",
       "timestamp                                                                       \n",
       "2020-07-14 04:00:00+00:00  125.15  126.63  125.15  126.43  191895        3525   \n",
       "\n",
       "                                        FCAU               ...        GM  \\\n",
       "                                 vwap   open  high    low  ...    volume   \n",
       "timestamp                                                  ...             \n",
       "2020-07-14 04:00:00+00:00  125.953315  10.06  10.3  10.05  ...  16477078   \n",
       "\n",
       "                                                     F                    \\\n",
       "                          trade_count       vwap  open  high   low close   \n",
       "timestamp                                                                  \n",
       "2020-07-14 04:00:00+00:00      100763  25.429475  6.18  6.39  6.08  6.36   \n",
       "\n",
       "                                                            \n",
       "                              volume trade_count      vwap  \n",
       "timestamp                                                   \n",
       "2020-07-14 04:00:00+00:00  106131848      168357  6.278597  \n",
       "\n",
       "[1 rows x 28 columns]"
      ]
     },
     "execution_count": 72,
     "metadata": {},
     "output_type": "execute_result"
    }
   ],
   "source": [
    "df_portfolio = pd.concat([TM, FCAU, GM, F],axis=1, keys=[\"TM\", \"FCAU\", \"GM\", \"F\"])\n",
    "df_portfolio"
   ]
  },
  {
   "cell_type": "code",
   "execution_count": 73,
   "id": "e25fc152-79c0-493b-a10f-abe23e8a9303",
   "metadata": {},
   "outputs": [],
   "source": [
    "TM_price = float(df_portfolio[\"TM\"][\"close\"])\n",
    "FCAU_price = float(df_portfolio[\"FCAU\"][\"close\"])\n",
    "GM_price = float(df_portfolio[\"GM\"][\"close\"])\n",
    "F_price = float(df_portfolio[\"F\"][\"close\"])"
   ]
  },
  {
   "cell_type": "code",
   "execution_count": 74,
   "id": "9899846a-9a24-42ce-9940-421966ef9b52",
   "metadata": {},
   "outputs": [],
   "source": [
    "TM_value = TM_price * df_shares.loc[\"TM\"][\"shares\"]\n",
    "FCAU_value = FCAU_price * df_shares.loc[\"FCAU\"][\"shares\"]\n",
    "GM_value = GM_price * df_shares.loc[\"GM\"][\"shares\"]\n",
    "F_value = F_price * df_shares.loc[\"F\"][\"shares\"]"
   ]
  },
  {
   "cell_type": "code",
   "execution_count": 75,
   "id": "1ce6f93d-5d37-4e67-9235-4912419bd19e",
   "metadata": {},
   "outputs": [
    {
     "name": "stdout",
     "output_type": "stream",
     "text": [
      "The current value of the 25 TM shares is $3160.75\n",
      "The current value of the 25 FCAU shares is $257.00\n",
      "The current value of the 25 GM shares is $641.00\n",
      "The current value of the 25 F shares is $159.00\n"
     ]
    }
   ],
   "source": [
    "print(f\"The current value of the {df_shares.loc['TM']['shares']} TM shares is ${TM_value:0.2f}\")\n",
    "print(f\"The current value of the {df_shares.loc['FCAU']['shares']} FCAU shares is ${FCAU_value:0.2f}\")\n",
    "print(f\"The current value of the {df_shares.loc['GM']['shares']} GM shares is ${GM_value:0.2f}\")\n",
    "print(f\"The current value of the {df_shares.loc['F']['shares']} F shares is ${F_value:0.2f}\")"
   ]
  },
  {
   "cell_type": "code",
   "execution_count": 76,
   "id": "0811561d-9bd4-45b9-a6cb-06c6c084eada",
   "metadata": {},
   "outputs": [],
   "source": [
    "value_data = {\n",
    "    \"TM\": [TM_value],\n",
    "    \"FCAU\": [FCAU_value],\n",
    "    \"GM\": [GM_value],\n",
    "    \"F\": [F_value]\n",
    "}"
   ]
  },
  {
   "cell_type": "code",
   "execution_count": 77,
   "id": "df04c60b-409c-4b8d-8070-04a8dd6fb43e",
   "metadata": {},
   "outputs": [
    {
     "data": {
      "text/html": [
       "<div>\n",
       "<style scoped>\n",
       "    .dataframe tbody tr th:only-of-type {\n",
       "        vertical-align: middle;\n",
       "    }\n",
       "\n",
       "    .dataframe tbody tr th {\n",
       "        vertical-align: top;\n",
       "    }\n",
       "\n",
       "    .dataframe thead th {\n",
       "        text-align: right;\n",
       "    }\n",
       "</style>\n",
       "<table border=\"1\" class=\"dataframe\">\n",
       "  <thead>\n",
       "    <tr style=\"text-align: right;\">\n",
       "      <th></th>\n",
       "      <th>TM</th>\n",
       "      <th>FCAU</th>\n",
       "      <th>GM</th>\n",
       "      <th>F</th>\n",
       "    </tr>\n",
       "  </thead>\n",
       "  <tbody>\n",
       "    <tr>\n",
       "      <th>0</th>\n",
       "      <td>3160.75</td>\n",
       "      <td>257.0</td>\n",
       "      <td>641.0</td>\n",
       "      <td>159.0</td>\n",
       "    </tr>\n",
       "  </tbody>\n",
       "</table>\n",
       "</div>"
      ],
      "text/plain": [
       "        TM   FCAU     GM      F\n",
       "0  3160.75  257.0  641.0  159.0"
      ]
     },
     "execution_count": 77,
     "metadata": {},
     "output_type": "execute_result"
    }
   ],
   "source": [
    "df_value = pd.DataFrame(value_data)\n",
    "df_value"
   ]
  },
  {
   "cell_type": "code",
   "execution_count": 78,
   "id": "85ec9007-cc50-47ea-8435-ed3bc03807da",
   "metadata": {},
   "outputs": [
    {
     "data": {
      "image/png": "[encoded data removed]",
      "text/plain": [
       "<Figure size 640x480 with 1 Axes>"
      ]
     },
     "metadata": {},
     "output_type": "display_data"
    }
   ],
   "source": [
    "df_value.plot.bar(title=\"Current Value in Dollars of 25 shares Portfolio\");"
   ]
  },
  {
   "cell_type": "code",
   "execution_count": 79,
   "id": "e136e596-a18a-4bdd-a69d-825487624581",
   "metadata": {},
   "outputs": [
    {
     "data": {},
     "metadata": {},
     "output_type": "display_data"
    },
    {
     "data": {
      "application/vnd.holoviews_exec.v0+json": "",
      "text/html": [
       "<div id='1116'>\n",
       "  <div class=\"bk-root\" id=\"4ff0f689-6481-453d-94a1-48598619ed8a\" data-root-id=\"1116\"></div>\n",
       "</div>\n",
       "<script type=\"application/javascript\">(function(root) {\n",
       "  function embed_document(root) {\n",
       "    var docs_json = {\"a87dcc41-b47a-4cc9-a990-ec898f8078bc\":{\"defs\":[{\"extends\":null,\"module\":null,\"name\":\"ReactiveHTML1\",\"overrides\":[],\"properties\":[]},{\"extends\":null,\"module\":null,\"name\":\"FlexBox1\",\"overrides\":[],\"properties\":[{\"default\":\"flex-start\",\"kind\":null,\"name\":\"align_content\"},{\"default\":\"flex-start\",\"kind\":null,\"name\":\"align_items\"},{\"default\":\"row\",\"kind\":null,\"name\":\"flex_direction\"},{\"default\":\"wrap\",\"kind\":null,\"name\":\"flex_wrap\"},{\"default\":\"flex-start\",\"kind\":null,\"name\":\"justify_content\"}]},{\"extends\":null,\"module\":null,\"name\":\"GridStack1\",\"overrides\":[],\"properties\":[{\"default\":\"warn\",\"kind\":null,\"name\":\"mode\"},{\"default\":null,\"kind\":null,\"name\":\"ncols\"},{\"default\":null,\"kind\":null,\"name\":\"nrows\"},{\"default\":true,\"kind\":null,\"name\":\"allow_resize\"},{\"default\":true,\"kind\":null,\"name\":\"allow_drag\"},{\"default\":[],\"kind\":null,\"name\":\"state\"}]},{\"extends\":null,\"module\":null,\"name\":\"click1\",\"overrides\":[],\"properties\":[{\"default\":\"\",\"kind\":null,\"name\":\"terminal_output\"},{\"default\":\"\",\"kind\":null,\"name\":\"debug_name\"},{\"default\":0,\"kind\":null,\"name\":\"clears\"}]},{\"extends\":null,\"module\":null,\"name\":\"NotificationAreaBase1\",\"overrides\":[],\"properties\":[{\"default\":\"bottom-right\",\"kind\":null,\"name\":\"position\"},{\"default\":0,\"kind\":null,\"name\":\"_clear\"}]},{\"extends\":null,\"module\":null,\"name\":\"NotificationArea1\",\"overrides\":[],\"properties\":[{\"default\":[],\"kind\":null,\"name\":\"notifications\"},{\"default\":\"bottom-right\",\"kind\":null,\"name\":\"position\"},{\"default\":0,\"kind\":null,\"name\":\"_clear\"},{\"default\":[{\"background\":\"#ffc107\",\"icon\":{\"className\":\"fas fa-exclamation-triangle\",\"color\":\"white\",\"tagName\":\"i\"},\"type\":\"warning\"},{\"background\":\"#007bff\",\"icon\":{\"className\":\"fas fa-info-circle\",\"color\":\"white\",\"tagName\":\"i\"},\"type\":\"info\"}],\"kind\":null,\"name\":\"types\"}]},{\"extends\":null,\"module\":null,\"name\":\"Notification\",\"overrides\":[],\"properties\":[{\"default\":null,\"kind\":null,\"name\":\"background\"},{\"default\":3000,\"kind\":null,\"name\":\"duration\"},{\"default\":null,\"kind\":null,\"name\":\"icon\"},{\"default\":\"\",\"kind\":null,\"name\":\"message\"},{\"default\":null,\"kind\":null,\"name\":\"notification_type\"},{\"default\":false,\"kind\":null,\"name\":\"_destroyed\"}]},{\"extends\":null,\"module\":null,\"name\":\"TemplateActions1\",\"overrides\":[],\"properties\":[{\"default\":0,\"kind\":null,\"name\":\"open_modal\"},{\"default\":0,\"kind\":null,\"name\":\"close_modal\"}]},{\"extends\":null,\"module\":null,\"name\":\"MaterialTemplateActions1\",\"overrides\":[],\"properties\":[{\"default\":0,\"kind\":null,\"name\":\"open_modal\"},{\"default\":0,\"kind\":null,\"name\":\"close_modal\"}]}],\"roots\":{\"references\":[{\"attributes\":{},\"id\":\"1136\",\"type\":\"SaveTool\"},{\"attributes\":{},\"id\":\"1127\",\"type\":\"LinearScale\"},{\"attributes\":{\"overlay\":{\"id\":\"1141\"}},\"id\":\"1139\",\"type\":\"BoxZoomTool\"},{\"attributes\":{},\"id\":\"1140\",\"type\":\"ResetTool\"},{\"attributes\":{\"bottom\":{\"value\":0},\"fill_alpha\":{\"value\":1.0},\"fill_color\":{\"field\":\"Variable\",\"transform\":{\"id\":\"1149\"}},\"hatch_alpha\":{\"value\":1.0},\"hatch_color\":{\"field\":\"Variable\",\"transform\":{\"id\":\"1149\"}},\"hatch_scale\":{\"value\":12.0},\"hatch_weight\":{\"value\":1.0},\"line_alpha\":{\"value\":1.0},\"line_cap\":{\"value\":\"butt\"},\"line_color\":{\"value\":\"black\"},\"line_dash\":{\"value\":[]},\"line_dash_offset\":{\"value\":0},\"line_join\":{\"value\":\"bevel\"},\"line_width\":{\"value\":1},\"top\":{\"field\":\"value\"},\"width\":{\"value\":0.8},\"x\":{\"field\":\"xoffsets\"}},\"id\":\"1158\",\"type\":\"VBar\"},{\"attributes\":{\"source\":{\"id\":\"1150\"}},\"id\":\"1157\",\"type\":\"CDSView\"},{\"attributes\":{},\"id\":\"1176\",\"type\":\"UnionRenderers\"},{\"attributes\":{\"bottom_units\":\"screen\",\"coordinates\":null,\"fill_alpha\":0.5,\"fill_color\":\"lightgrey\",\"group\":null,\"left_units\":\"screen\",\"level\":\"overlay\",\"line_alpha\":1.0,\"line_color\":\"black\",\"line_dash\":[4,4],\"line_width\":2,\"right_units\":\"screen\",\"syncable\":false,\"top_units\":\"screen\"},\"id\":\"1141\",\"type\":\"BoxAnnotation\"},{\"attributes\":{\"coordinates\":null,\"data_source\":{\"id\":\"1150\"},\"glyph\":{\"id\":\"1153\"},\"group\":null,\"hover_glyph\":null,\"muted_glyph\":{\"id\":\"1155\"},\"nonselection_glyph\":{\"id\":\"1154\"},\"selection_glyph\":{\"id\":\"1158\"},\"view\":{\"id\":\"1157\"}},\"id\":\"1156\",\"type\":\"GlyphRenderer\"},{\"attributes\":{},\"id\":\"1151\",\"type\":\"Selection\"},{\"attributes\":{\"fill_color\":{\"field\":\"Variable\",\"transform\":{\"id\":\"1149\"}},\"hatch_color\":{\"field\":\"Variable\",\"transform\":{\"id\":\"1149\"}},\"top\":{\"field\":\"value\"},\"width\":{\"value\":0.8},\"x\":{\"field\":\"xoffsets\"}},\"id\":\"1153\",\"type\":\"VBar\"},{\"attributes\":{\"factors\":[\"TM\",\"FCAU\",\"GM\",\"F\"],\"palette\":[\"#30a2da\",\"#fc4f30\",\"#e5ae38\",\"#6d904f\"]},\"id\":\"1149\",\"type\":\"CategoricalColorMapper\"},{\"attributes\":{},\"id\":\"1125\",\"type\":\"CategoricalScale\"},{\"attributes\":{\"data\":{\"Variable\":[\"TM\",\"FCAU\",\"GM\",\"F\"],\"index\":[\"0\",\"0\",\"0\",\"0\"],\"value\":{\"__ndarray__\":\"AAAAAICxqEAAAAAAABBwQAAAAAAACIRAAAAAAADgY0A=\",\"dtype\":\"float64\",\"order\":\"little\",\"shape\":[4]},\"xoffsets\":[[\"0\",\"TM\"],[\"0\",\"FCAU\"],[\"0\",\"GM\"],[\"0\",\"F\"]]},\"selected\":{\"id\":\"1151\"},\"selection_policy\":{\"id\":\"1176\"}},\"id\":\"1150\",\"type\":\"ColumnDataSource\"},{\"attributes\":{\"fill_alpha\":{\"value\":0.1},\"fill_color\":{\"field\":\"Variable\",\"transform\":{\"id\":\"1149\"}},\"hatch_alpha\":{\"value\":0.1},\"hatch_color\":{\"field\":\"Variable\",\"transform\":{\"id\":\"1149\"}},\"line_alpha\":{\"value\":0.1},\"top\":{\"field\":\"value\"},\"width\":{\"value\":0.8},\"x\":{\"field\":\"xoffsets\"}},\"id\":\"1154\",\"type\":\"VBar\"},{\"attributes\":{\"factors\":[[\"0\",\"F\"],[\"0\",\"GM\"],[\"0\",\"FCAU\"],[\"0\",\"TM\"]],\"tags\":[[[\"index\",\"index\",null],[\"Variable\",\"Variable\",null]]]},\"id\":\"1117\",\"type\":\"FactorRange\"},{\"attributes\":{\"axis_label\":\"\",\"coordinates\":null,\"formatter\":{\"id\":\"1160\"},\"group\":null,\"major_label_policy\":{\"id\":\"1161\"},\"ticker\":{\"id\":\"1130\"}},\"id\":\"1129\",\"type\":\"CategoricalAxis\"},{\"attributes\":{},\"id\":\"1163\",\"type\":\"BasicTickFormatter\"},{\"attributes\":{\"children\":[{\"id\":\"1120\"}],\"height\":300,\"margin\":[0,0,0,0],\"name\":\"Row00967\",\"sizing_mode\":\"fixed\",\"tags\":[\"embedded\"],\"width\":700},\"id\":\"1116\",\"type\":\"Row\"},{\"attributes\":{\"active_drag\":{\"id\":\"1137\"},\"active_scroll\":{\"id\":\"1138\"},\"tools\":[{\"id\":\"1119\"},{\"id\":\"1136\"},{\"id\":\"1137\"},{\"id\":\"1138\"},{\"id\":\"1139\"},{\"id\":\"1140\"}]},\"id\":\"1142\",\"type\":\"Toolbar\"},{\"attributes\":{},\"id\":\"1161\",\"type\":\"AllLabels\"},{\"attributes\":{\"callback\":null,\"renderers\":[{\"id\":\"1156\"}],\"tags\":[\"hv_created\"],\"tooltips\":[[\"index\",\"@{index}\"],[\"Variable\",\"@{Variable}\"],[\"value\",\"@{value}\"]]},\"id\":\"1119\",\"type\":\"HoverTool\"},{\"attributes\":{},\"id\":\"1160\",\"type\":\"CategoricalTickFormatter\"},{\"attributes\":{\"coordinates\":null,\"group\":null,\"text_color\":\"black\",\"text_font_size\":\"12pt\"},\"id\":\"1121\",\"type\":\"Title\"},{\"attributes\":{},\"id\":\"1164\",\"type\":\"AllLabels\"},{\"attributes\":{\"below\":[{\"id\":\"1129\"}],\"center\":[{\"id\":\"1131\"},{\"id\":\"1135\"}],\"height\":300,\"left\":[{\"id\":\"1132\"}],\"margin\":[5,5,5,5],\"min_border_bottom\":10,\"min_border_left\":10,\"min_border_right\":10,\"min_border_top\":10,\"renderers\":[{\"id\":\"1156\"}],\"sizing_mode\":\"fixed\",\"title\":{\"id\":\"1121\"},\"toolbar\":{\"id\":\"1142\"},\"width\":700,\"x_range\":{\"id\":\"1117\"},\"x_scale\":{\"id\":\"1125\"},\"y_range\":{\"id\":\"1118\"},\"y_scale\":{\"id\":\"1127\"}},\"id\":\"1120\",\"subtype\":\"Figure\",\"type\":\"Plot\"},{\"attributes\":{\"fill_alpha\":{\"value\":0.2},\"fill_color\":{\"field\":\"Variable\",\"transform\":{\"id\":\"1149\"}},\"hatch_alpha\":{\"value\":0.2},\"hatch_color\":{\"field\":\"Variable\",\"transform\":{\"id\":\"1149\"}},\"line_alpha\":{\"value\":0.2},\"top\":{\"field\":\"value\"},\"width\":{\"value\":0.8},\"x\":{\"field\":\"xoffsets\"}},\"id\":\"1155\",\"type\":\"VBar\"},{\"attributes\":{},\"id\":\"1130\",\"type\":\"CategoricalTicker\"},{\"attributes\":{\"axis\":{\"id\":\"1129\"},\"coordinates\":null,\"grid_line_color\":null,\"group\":null,\"ticker\":null},\"id\":\"1131\",\"type\":\"Grid\"},{\"attributes\":{},\"id\":\"1137\",\"type\":\"PanTool\"},{\"attributes\":{\"end\":3460.925,\"reset_end\":3460.925,\"reset_start\":0.0,\"tags\":[[[\"value\",\"value\",null]]]},\"id\":\"1118\",\"type\":\"Range1d\"},{\"attributes\":{\"axis_label\":\"\",\"coordinates\":null,\"formatter\":{\"id\":\"1163\"},\"group\":null,\"major_label_policy\":{\"id\":\"1164\"},\"ticker\":{\"id\":\"1133\"}},\"id\":\"1132\",\"type\":\"LinearAxis\"},{\"attributes\":{\"axis\":{\"id\":\"1132\"},\"coordinates\":null,\"dimension\":1,\"grid_line_color\":null,\"group\":null,\"ticker\":null},\"id\":\"1135\",\"type\":\"Grid\"},{\"attributes\":{},\"id\":\"1133\",\"type\":\"BasicTicker\"},{\"attributes\":{},\"id\":\"1138\",\"type\":\"WheelZoomTool\"}],\"root_ids\":[\"1116\"]},\"title\":\"Bokeh Application\",\"version\":\"2.4.3\"}};\n",
       "    var render_items = [{\"docid\":\"a87dcc41-b47a-4cc9-a990-ec898f8078bc\",\"root_ids\":[\"1116\"],\"roots\":{\"1116\":\"4ff0f689-6481-453d-94a1-48598619ed8a\"}}];\n",
       "    root.Bokeh.embed.embed_items_notebook(docs_json, render_items);\n",
       "    for (const render_item of render_items) {\n",
       "      for (const root_id of render_item.root_ids) {\n",
       "\tconst id_el = document.getElementById(root_id)\n",
       "\tif (id_el.children.length && (id_el.children[0].className === 'bk-root')) {\n",
       "\t  const root_el = id_el.children[0]\n",
       "\t  root_el.id = root_el.id + '-rendered'\n",
       "\t}\n",
       "      }\n",
       "    }\n",
       "  }\n",
       "  if (root.Bokeh !== undefined && root.Bokeh.Panel !== undefined) {\n",
       "    embed_document(root);\n",
       "  } else {\n",
       "    var attempts = 0;\n",
       "    var timer = setInterval(function(root) {\n",
       "      if (root.Bokeh !== undefined && root.Bokeh.Panel !== undefined) {\n",
       "        clearInterval(timer);\n",
       "        embed_document(root);\n",
       "      } else if (document.readyState == \"complete\") {\n",
       "        attempts++;\n",
       "        if (attempts > 200) {\n",
       "          clearInterval(timer);\n",
       "          console.log(\"Bokeh: ERROR: Unable to run BokehJS code because BokehJS library is missing\");\n",
       "        }\n",
       "      }\n",
       "    }, 25, root)\n",
       "  }\n",
       "})(window);</script>"
      ],
      "text/plain": [
       ":Bars   [index,Variable]   (value)"
      ]
     },
     "execution_count": 79,
     "metadata": {
      "application/vnd.holoviews_exec.v0+json": {
       "id": "1116"
      }
     },
     "output_type": "execute_result"
    }
   ],
   "source": [
    "df_value.hvplot.bar()"
   ]
  },
  {
   "cell_type": "code",
   "execution_count": null,
   "id": "274ca393-97c4-4266-8ed8-a4139d756777",
   "metadata": {},
   "outputs": [],
   "source": []
  }
 ],
 "metadata": {
  "kernelspec": {
   "display_name": "Python 3 (ipykernel)",
   "language": "python",
   "name": "python3"
  },
  "language_info": {
   "codemirror_mode": {
    "name": "ipython",
    "version": 3
   },
   "file_extension": ".py",
   "mimetype": "text/x-python",
   "name": "python",
   "nbconvert_exporter": "python",
   "pygments_lexer": "ipython3",
   "version": "3.10.10"
  }
 },
 "nbformat": 4,
 "nbformat_minor": 5
}
